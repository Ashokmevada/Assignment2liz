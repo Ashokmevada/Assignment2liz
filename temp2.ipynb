{
 "cells": [
  {
   "cell_type": "code",
   "execution_count": 2,
   "metadata": {},
   "outputs": [],
   "source": [
    "import requests\n",
    "from bs4 import BeautifulSoup\n"
   ]
  },
  {
   "cell_type": "code",
   "execution_count": 3,
   "metadata": {},
   "outputs": [],
   "source": [
    "def url_prepocess(url):\n",
    "    url = url.replace(\" \", \"+\").replace(\",\" , \"%2C\")\n",
    "    return url\n"
   ]
  },
  {
   "cell_type": "code",
   "execution_count": 4,
   "metadata": {},
   "outputs": [],
   "source": [
    "def scrap_links(url):\n",
    "    response = requests.get(url)\n",
    "    soup = BeautifulSoup(response.content, \"html.parser\")\n",
    "    search_result = soup.findAll(\"a\" , href=True)\n",
    "\n",
    "    links = [link['href'][7:].split(\"&\")[0] for link in search_result if \"https://\" in link['href'] and \"canoo\" in link['href']] \n",
    "    return links\n",
    "\n",
    "    \n"
   ]
  },
  {
   "cell_type": "code",
   "execution_count": 5,
   "metadata": {},
   "outputs": [],
   "source": [
    "import csv"
   ]
  },
  {
   "cell_type": "code",
   "execution_count": 14,
   "metadata": {},
   "outputs": [],
   "source": [
    "def scrap_data(queries):\n",
    "\n",
    "    link_scraped=set()\n",
    "        \n",
    "    with open('data.csv' , mode='a' , newline='' , encoding='utf-8') as file:\n",
    "            \n",
    "        writer = csv.writer(file)\n",
    "        writer.writerow(['link' , 'data'])\n",
    "\n",
    "        for query in queries:\n",
    "\n",
    "            url_ = url_prepocess(query)\n",
    "            url = f\"https://www.google.com/search?q={url_}\"  \n",
    "\n",
    "            links = scrap_links(url)            \n",
    "\n",
    "            for link in links:\n",
    "                if link not in link_scraped:\n",
    "                    link_scraped.add(link)            \n",
    "                    ans = \"\"\n",
    "                    response = requests.get(link)\n",
    "                    soup = BeautifulSoup(response.content, \"html.parser\")\n",
    "                    data = soup.findAll(['div'])  \n",
    "                    for div in data:\n",
    "\n",
    "                        text = div.text.strip()   \n",
    "                        parts = text.split()  # Split text based on spaces\n",
    "                        for part in parts:\n",
    "                            if ' ' not in part:  # Check if part contains no spaces\n",
    "                                ans = ans + ' ' + part    \n",
    "                    \n",
    "                    writer.writerow([link,ans])\n",
    "            \n",
    "         \n",
    "        "
   ]
  },
  {
   "cell_type": "code",
   "execution_count": 15,
   "metadata": {},
   "outputs": [],
   "source": [
    "queries = [\"Canoo car company\",\" Identify the industry in which Canoo operates, along with its size, growth rate, trends, and key players. \" ,\n",
    "           \"Analyze Canoo's main competitors, including their market share, products or services offered, pricingstrategies, and marketing efforts. \"\n",
    "           ,\"Identify key trends in the market, including changes in consumer behavior, technological advancements, and shifts in the competitive landscape.\"\n",
    "           , \"Gather information on Canoo's financial performance, including its revenue, profit margins, return on investment, and expense structure. \"]\n",
    "\n",
    "try:\n",
    "\n",
    "          \n",
    "        scrap_data(queries)\n",
    "\n",
    "except Exception as e:    \n",
    "    print(e)\n",
    "\n",
    "\n",
    "\n",
    "\n"
   ]
  },
  {
   "cell_type": "code",
   "execution_count": null,
   "metadata": {},
   "outputs": [],
   "source": []
  }
 ],
 "metadata": {
  "kernelspec": {
   "display_name": "liz",
   "language": "python",
   "name": "python3"
  },
  "language_info": {
   "codemirror_mode": {
    "name": "ipython",
    "version": 3
   },
   "file_extension": ".py",
   "mimetype": "text/x-python",
   "name": "python",
   "nbconvert_exporter": "python",
   "pygments_lexer": "ipython3",
   "version": "3.12.1"
  }
 },
 "nbformat": 4,
 "nbformat_minor": 2
}
