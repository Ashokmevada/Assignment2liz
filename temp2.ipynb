{
 "cells": [
  {
   "cell_type": "code",
   "execution_count": 33,
   "metadata": {},
   "outputs": [],
   "source": [
    "import requests\n",
    "from bs4 import BeautifulSoup\n",
    "import csv\n"
   ]
  },
  {
   "cell_type": "code",
   "execution_count": 34,
   "metadata": {},
   "outputs": [],
   "source": [
    "def url_prepocess(url):\n",
    "    '''\n",
    "    This function prepocess the url to be used in google search.\n",
    "    \n",
    "    '''\n",
    "    url = url.replace(\" \", \"+\").replace(\",\" , \"%2C\")\n",
    "    return url\n"
   ]
  },
  {
   "cell_type": "code",
   "execution_count": 38,
   "metadata": {},
   "outputs": [],
   "source": [
    "def scrap_links(url):\n",
    "    '''\n",
    "    This function scrap the links from google search and return the list of links.\n",
    "    '''\n",
    "    response = requests.get(url) # get the url response from google\n",
    "    soup = BeautifulSoup(response.content, \"html.parser\") # parse the html response\n",
    "    search_result = soup.findAll(\"a\" , href=True)\n",
    "\n",
    "    #It filters the links and select only links that allow scraping \n",
    "    links = [link['href'][7:].split(\"&\")[0] for link in search_result if \"https://\" in link['href'] \n",
    "             and \"youtube\" not in link['href'] and \"google\" not in link['href'] and \"linkedin\" not in link['href'] \n",
    "             and \"canoe\" not in link['href']  and \"fastercapital\" not in link['href']] \n",
    "    return links\n",
    "\n",
    "    \n"
   ]
  },
  {
   "cell_type": "code",
   "execution_count": 39,
   "metadata": {},
   "outputs": [],
   "source": [
    "def scrap_data(queries):\n",
    "\n",
    "    '''\n",
    "    This function scrap the data from the links and store it in a csv file.\n",
    "    '''\n",
    "\n",
    "    link_scraped=set() # used to mititgate redundancy scraping of the same data\n",
    "        \n",
    "    with open('data.csv' , mode='a' , newline='' , encoding='utf-8') as file:\n",
    "            \n",
    "        writer = csv.writer(file)\n",
    "        writer.writerow(['link' , 'data']) # Write the heading \n",
    "\n",
    "        for query in queries:\n",
    "\n",
    "            url_ = url_prepocess(query)\n",
    "            url = f\"https://www.google.com/search?q={url_}\"  \n",
    "\n",
    "            links = scrap_links(url)            \n",
    "\n",
    "            for link in links:\n",
    "                if link not in link_scraped:\n",
    "                    print(link)\n",
    "                    link_scraped.add(link)            \n",
    "                    ans = \"\"\n",
    "                    response = requests.get(link)\n",
    "                    soup = BeautifulSoup(response.content, \"html.parser\")\n",
    "                    data = soup.findAll(['div'])  \n",
    "                    for div in data:\n",
    "\n",
    "                        text = div.text.strip()   \n",
    "                        parts = text.split()  # Split text based on spaces\n",
    "                        for part in parts:\n",
    "                            if ' ' not in part:  # Check if part contains no spaces\n",
    "                                ans = ans + ' ' + part    \n",
    "                    \n",
    "                    writer.writerow([link,ans])\n",
    "            \n",
    "         \n",
    "        "
   ]
  },
  {
   "cell_type": "code",
   "execution_count": 42,
   "metadata": {},
   "outputs": [
    {
     "name": "stdout",
     "output_type": "stream",
     "text": [
      "https://www.canoo.com/\n",
      "https://www.canoo.com/canoo/\n",
      "https://www.canoo.com/about/\n",
      "https://www.canoo.com/pickup/\n",
      "https://investors.canoo.com/\n",
      "https://en.wikipedia.org/wiki/Canoo\n",
      "https://en.wikipedia.org/wiki/Canoo%23History\n",
      "https://en.wikipedia.org/wiki/Canoo%23Corporate_changes\n",
      "https://en.wikipedia.org/wiki/Canoo%23Firm_orders\n",
      "https://www.canoo.com/fleet\n",
      "https://investors.canoo.com/company-information\n",
      "https://www.usatoday.com/story/money/cars/2023/11/22/a-2024-canoo-lifestyle-vehicle-first-drive-review/71672558007/\n",
      "https://investors.canoo.com/news-presentations/press-releases/detail/5/electric-vehicle-company-canoo-to-list-on-nasdaq-through\n",
      "https://investors.canoo.com/sec-filings/all-sec-filings/content/0001213900-21-004077/f424b30121_canooinc.htm\n",
      "https://www.press.canoo.com/press-release/mpdv\n",
      "https://www.statista.com/topics/1721/us-automotive-industry/\n",
      "https://www.lizmotors.com/internship-coding-assignment2024/\n",
      "https://www.globaldata.com/store/report/canoo-inc-company-profile/\n",
      "https://dcf.fm/blogs/blog/goev-bcg-matrix\n",
      "https://priceva.com/blog/competitor-pricing-analysis\n",
      "https://in.marketscreener.com/quote/stock/CANOO-INC-57291647/news/CANOO-INC-MANAGEMENT-S-DISCUSSION-AND-ANALYSIS-OF-FINANCIAL-CONDITION-AND-RESULTS-OF-OPERATIONS-f-43386654/\n",
      "https://www.kompyte.com/blog/competitive-pricing\n",
      "https://store.marketline.com/report/canoo-inc-swot-analysis/\n",
      "https://www.mikevestil.com/market-trends/\n",
      "https://www.thekeenfolks.com/blog-article/the-impact-of-technology-on-consumer-behaviour\n",
      "https://www.market-xcel.com/blogs/navigating-the-shifting-tides-consumer-behaviour-trends\n",
      "https://growthnatives.com/blogs/digital-marketing/what-are-the-key-marketing-trends/\n",
      "https://www.researchgate.net/publication/374436215_Technological_Innovation_in_Marketing_and_its_Effect_on_Consumer_Behaviour\n",
      "https://blog.hubspot.com/marketing/marketing-trends\n",
      "https://sinuatemedia.com/2023-consumer-behavior/\n",
      "https://investors.canoo.com/financial-information/income-statement\n",
      "https://www.wsj.com/market-data/quotes/GOEV/financials\n",
      "https://finpedia.co/bin/Canoo%2520Inc./\n",
      "https://in.investing.com/equities/hennessy-capital-acquisition-corp-financial-summary\n",
      "https://www.sec.gov/Archives/edgar/data/1750153/000121390021001996/fs12021_canooinc.htm\n",
      "https://www.prnewswire.com/news-releases/canoo-inc-announces-first-quarter-2023-results-301825198.html\n",
      "https://www.globaldata.com/company-profile/canoo-inc/financials/\n",
      "https://www.sec.gov/Archives/edgar/data/1750153/000121390020033060/fs42020a1_hennessycapital4.htm\n"
     ]
    }
   ],
   "source": [
    "queries = [\"Canoo car company\",\" Identify the industry in which Canoo operates, along with its size, growth rate, trends, and key players. \" ,\n",
    "           \"Analyze Canoo's main competitors, including their market share, products or services offered, pricingstrategies, and marketing efforts. \"\n",
    "           ,\"Identify key trends in the market, including changes in consumer behavior, technological advancements, and shifts in the competitive landscape.\"\n",
    "           , \"Gather information on Canoo's financial performance, including its revenue, profit margins, return on investment, and expense structure. \"]\n",
    "\n",
    "try:     \n",
    "             \n",
    "        scrap_data(queries)\n",
    "\n",
    "except Exception as e:    \n",
    "        print(e)\n",
    "\n",
    "\n",
    "\n",
    "\n"
   ]
  },
  {
   "cell_type": "code",
   "execution_count": null,
   "metadata": {},
   "outputs": [],
   "source": []
  },
  {
   "cell_type": "code",
   "execution_count": null,
   "metadata": {},
   "outputs": [],
   "source": []
  }
 ],
 "metadata": {
  "kernelspec": {
   "display_name": "liz",
   "language": "python",
   "name": "python3"
  },
  "language_info": {
   "codemirror_mode": {
    "name": "ipython",
    "version": 3
   },
   "file_extension": ".py",
   "mimetype": "text/x-python",
   "name": "python",
   "nbconvert_exporter": "python",
   "pygments_lexer": "ipython3",
   "version": "3.12.1"
  }
 },
 "nbformat": 4,
 "nbformat_minor": 2
}
